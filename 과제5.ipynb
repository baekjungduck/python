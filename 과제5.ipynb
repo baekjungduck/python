{
  "nbformat": 4,
  "nbformat_minor": 0,
  "metadata": {
    "colab": {
      "provenance": [],
      "authorship_tag": "ABX9TyMwnmIhawEtepsvPvqmuRqP",
      "include_colab_link": true
    },
    "kernelspec": {
      "name": "python3",
      "display_name": "Python 3"
    },
    "language_info": {
      "name": "python"
    }
  },
  "cells": [
    {
      "cell_type": "markdown",
      "metadata": {
        "id": "view-in-github",
        "colab_type": "text"
      },
      "source": [
        "<a href=\"https://colab.research.google.com/github/baekjungduck/python/blob/main/%EA%B3%BC%EC%A0%9C5.ipynb\" target=\"_parent\"><img src=\"https://colab.research.google.com/assets/colab-badge.svg\" alt=\"Open In Colab\"/></a>"
      ]
    },
    {
      "cell_type": "code",
      "execution_count": 6,
      "metadata": {
        "colab": {
          "base_uri": "https://localhost:8080/"
        },
        "id": "lQztd1S8VcPy",
        "outputId": "db5ca6c0-2ebb-45a3-e761-4da5af5371fd"
      },
      "outputs": [
        {
          "output_type": "stream",
          "name": "stdout",
          "text": [
            "정보처리기능사 실기 점수 입력 : 59\n",
            "불합격\n"
          ]
        }
      ],
      "source": [
        "score = int(input(\"정보처리기능사 실기 점수 입력 : \"))\n",
        "\n",
        "if score >=60 :\n",
        "  print(\"합격\")\n",
        "  print(\"축하합니다.\")\n",
        "\n",
        "else :\n",
        "  print(\"불합격\")"
      ]
    },
    {
      "cell_type": "code",
      "source": [
        "#한줄 주석문 연습\n",
        "\"\"\"\n",
        "프로그래밍 수업 : 3월 20일\n",
        "프로그래머 : 백정덕\n",
        "프로그램 최종 작성일 : 3월 20일\n",
        "프로그램명 : 학점 계산 프로그램\n",
        "\"\"\"\n",
        "print(\"파이썬(3) : B(3.5) \\n\")\n",
        "print(\"모바일(2) : A(4.0) \\n\")\n",
        "print(\"엑셀(1) : A(4.5)\")\n",
        "python = float(input(\"파이썬 성적을 입력(예,4.0)\"))\n",
        "mobile=float(input(\"모바일 성적을 입력 : \"))\n",
        "excel = float(input(\"엑셀 성적을 입력 :\"))\n",
        "\n",
        "result = (python *3) + (mobile*2)+excel\n",
        "avg= result /6\n",
        "\n",
        "print(\"평균 학점은 \",round(avg,3))"
      ],
      "metadata": {
        "colab": {
          "base_uri": "https://localhost:8080/"
        },
        "id": "XLtvsvuwYIph",
        "outputId": "21a0c7e2-33c8-4089-ddb8-8608d9a9caed"
      },
      "execution_count": 10,
      "outputs": [
        {
          "output_type": "stream",
          "name": "stdout",
          "text": [
            "파이썬(3) : B(3.5) \n",
            "\n",
            "모바일(2) : A(4.0) \n",
            "\n",
            "엑셀(1) : A(4.5)\n",
            "파이썬 성적을 입력(예,4.0)3.5\n",
            "모바일 성적을 입력 : 4.0\n",
            "엑셀 성적을 입력 :035\n",
            "평균 학점은  8.917\n"
          ]
        }
      ]
    },
    {
      "cell_type": "code",
      "source": [
        "print(\"\\n줄바꿈\\n연습\")\n",
        "print(\"\\t탭키\\t연습\")\n",
        "print(\"어떤 글자를\\\"강조\\\"하는 효과1\")\n",
        "print(\"어떤 글자를\\'강조\\'하는 효과2\")\n",
        "print(\"\\\\\\\\ 백슬래시 2개 출력\")\n"
      ],
      "metadata": {
        "colab": {
          "base_uri": "https://localhost:8080/"
        },
        "id": "YCcdtq49Ygwu",
        "outputId": "bfe8d6e8-a9c3-42ce-c463-5e999b2c795d"
      },
      "execution_count": 11,
      "outputs": [
        {
          "output_type": "stream",
          "name": "stdout",
          "text": [
            "\n",
            "줄바꿈\n",
            "연습\n",
            "\t탭키\t연습\n",
            "어떤 글자를\"강조\"하는 효과1\n",
            "어떤 글자를'강조'하는 효과2\n",
            "\\\\ 백슬래시 2개 출력\n"
          ]
        }
      ]
    },
    {
      "cell_type": "code",
      "source": [
        "FirstString = input(\"첫번째 문자열 : \")\n",
        "SecondSrtig = input(\"두번째 문자열 : \")\n",
        "com = len(FirstString) - len(SecondSrtig)\n",
        "\n",
        "print(\"두 문자열의 길이 차이는\",com,\"입니다.\")"
      ],
      "metadata": {
        "colab": {
          "base_uri": "https://localhost:8080/"
        },
        "id": "q_HNcp90eYg8",
        "outputId": "799bed76-98d2-40cd-b806-db3804beb2af"
      },
      "execution_count": 22,
      "outputs": [
        {
          "output_type": "stream",
          "name": "stdout",
          "text": [
            "첫번째 문자열 : jklhsdf\n",
            "두번째 문자열 : salkjd\n",
            "두 문자열의 길이 차이는 1 입니다.\n"
          ]
        }
      ]
    },
    {
      "cell_type": "code",
      "source": [
        "str1=\"\"\"\n",
        "안산공업고등학교 컴퓨터과, 안산공업고등학교는\n",
        "기계과, 전기과, 전자과, 화공과, 디자인과, 컴퓨터과롤 총 6개의 \n",
        "과로 이뤄져있습니다.\n",
        "\"\"\"\n",
        "strlen = str1.count(\"안산\")\n",
        "print(strlen)"
      ],
      "metadata": {
        "colab": {
          "base_uri": "https://localhost:8080/"
        },
        "id": "vR09KplqjN6g",
        "outputId": "45cdad66-1b6c-4383-b60e-d2950f58fdb2"
      },
      "execution_count": 24,
      "outputs": [
        {
          "output_type": "stream",
          "name": "stdout",
          "text": [
            "2\n"
          ]
        }
      ]
    },
    {
      "cell_type": "code",
      "source": [
        "#Let it be 가사가 몇 번 나오는지 확인하는 프로그램\n",
        "가사=\"\"\"\n",
        "When I find myself in times of trouble\n",
        "Mother Mary comes to me\n",
        "Speaking words of wisdom\n",
        "Let it be\n",
        "And in my hour of darkness\n",
        "She is standing right in front of me\n",
        "Speaking words of wisdom\n",
        "Let it be\n",
        "Let it be, let it be\n",
        "Let it be, let it be\n",
        "Whisper words of wisdom\n",
        "Let it be\n",
        "And when the broken hearted\n",
        "People living in the world agree\n",
        "There will be an answer\n",
        "Let it be\n",
        "For though they may be parted\n",
        "There is still a chance that they will see\n",
        "There will be an answer\n",
        "Let it be\n",
        "Let it be, let it be\n",
        "Let it be, let it be\n",
        "Yeah, there will be answer\n",
        "Let it be\n",
        "Let it be, let it be\n",
        "Let it be, let it be\n",
        "Whisper words of wisdom\n",
        "Let it be\n",
        "Let it be, let it be\n",
        "Let it be, yeah, let it be\n",
        "Whisper words of wisdom\n",
        "Let it be\n",
        "And when the night is cloudy\n",
        "There is still a light that shines on me\n",
        "Shine until tomorrow\n",
        "Let it be\n",
        "I wake up to the sound of music\n",
        "Mother Mary comes to me\n",
        "Speaking words of wisdom\n",
        "Let it be, yeah\n",
        "Let it be, let it be\n",
        "Let it be, yeah, let it be\n",
        "Oh, there will be answer\n",
        "Let it be\n",
        "Let it be, let it be\n",
        "Let it be, yeah, let it be\n",
        "Oh, there will be an answer\n",
        "Let it be\n",
        "Let it be, let it be\n",
        "Let it be, yeah, let it be\n",
        "Whisper words of wisdom\n",
        "Let it be\n",
        "\"\"\"\n",
        "가사= 가사.upper()\n",
        "print(가사)\n",
        "a= 가사.count(\"LET IT BE\")\n",
        "print(a)"
      ],
      "metadata": {
        "colab": {
          "base_uri": "https://localhost:8080/"
        },
        "id": "SazmHaf5jvbB",
        "outputId": "6e8f8810-3558-4409-f4ad-6fd1165e6355"
      },
      "execution_count": 42,
      "outputs": [
        {
          "output_type": "stream",
          "name": "stdout",
          "text": [
            "\n",
            "WHEN I FIND MYSELF IN TIMES OF TROUBLE\n",
            "MOTHER MARY COMES TO ME\n",
            "SPEAKING WORDS OF WISDOM\n",
            "LET IT BE\n",
            "AND IN MY HOUR OF DARKNESS\n",
            "SHE IS STANDING RIGHT IN FRONT OF ME\n",
            "SPEAKING WORDS OF WISDOM\n",
            "LET IT BE\n",
            "LET IT BE, LET IT BE\n",
            "LET IT BE, LET IT BE\n",
            "WHISPER WORDS OF WISDOM\n",
            "LET IT BE\n",
            "AND WHEN THE BROKEN HEARTED\n",
            "PEOPLE LIVING IN THE WORLD AGREE\n",
            "THERE WILL BE AN ANSWER\n",
            "LET IT BE\n",
            "FOR THOUGH THEY MAY BE PARTED\n",
            "THERE IS STILL A CHANCE THAT THEY WILL SEE\n",
            "THERE WILL BE AN ANSWER\n",
            "LET IT BE\n",
            "LET IT BE, LET IT BE\n",
            "LET IT BE, LET IT BE\n",
            "YEAH, THERE WILL BE ANSWER\n",
            "LET IT BE\n",
            "LET IT BE, LET IT BE\n",
            "LET IT BE, LET IT BE\n",
            "WHISPER WORDS OF WISDOM\n",
            "LET IT BE\n",
            "LET IT BE, LET IT BE\n",
            "LET IT BE, YEAH, LET IT BE\n",
            "WHISPER WORDS OF WISDOM\n",
            "LET IT BE\n",
            "AND WHEN THE NIGHT IS CLOUDY\n",
            "THERE IS STILL A LIGHT THAT SHINES ON ME\n",
            "SHINE UNTIL TOMORROW\n",
            "LET IT BE\n",
            "I WAKE UP TO THE SOUND OF MUSIC\n",
            "MOTHER MARY COMES TO ME\n",
            "SPEAKING WORDS OF WISDOM\n",
            "LET IT BE, YEAH\n",
            "LET IT BE, LET IT BE\n",
            "LET IT BE, YEAH, LET IT BE\n",
            "OH, THERE WILL BE ANSWER\n",
            "LET IT BE\n",
            "LET IT BE, LET IT BE\n",
            "LET IT BE, YEAH, LET IT BE\n",
            "OH, THERE WILL BE AN ANSWER\n",
            "LET IT BE\n",
            "LET IT BE, LET IT BE\n",
            "LET IT BE, YEAH, LET IT BE\n",
            "WHISPER WORDS OF WISDOM\n",
            "LET IT BE\n",
            "\n",
            "41\n"
          ]
        }
      ]
    },
    {
      "cell_type": "code",
      "source": [],
      "metadata": {
        "id": "7PCKI86rk_sv"
      },
      "execution_count": null,
      "outputs": []
    }
  ]
}