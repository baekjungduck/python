{
  "nbformat": 4,
  "nbformat_minor": 0,
  "metadata": {
    "colab": {
      "provenance": [],
      "authorship_tag": "ABX9TyOELb49jKOHjkiQRtXYQwwb",
      "include_colab_link": true
    },
    "kernelspec": {
      "name": "python3",
      "display_name": "Python 3"
    },
    "language_info": {
      "name": "python"
    }
  },
  "cells": [
    {
      "cell_type": "markdown",
      "metadata": {
        "id": "view-in-github",
        "colab_type": "text"
      },
      "source": [
        "<a href=\"https://colab.research.google.com/github/baekjungduck/python/blob/main/%EA%B3%BC%EC%A0%9C4.ipynb\" target=\"_parent\"><img src=\"https://colab.research.google.com/assets/colab-badge.svg\" alt=\"Open In Colab\"/></a>"
      ]
    },
    {
      "cell_type": "code",
      "execution_count": 22,
      "metadata": {
        "colab": {
          "base_uri": "https://localhost:8080/"
        },
        "id": "h-LngCl2MriS",
        "outputId": "1752123a-ea07-4e2d-b5ca-6bfa1345bdae"
      },
      "outputs": [
        {
          "output_type": "stream",
          "name": "stdout",
          "text": [
            "오늘 총 매출액은 11600 원입니다.\n"
          ]
        }
      ],
      "source": [
        "tg= 900\n",
        "bm= 1800\n",
        "do=3500\n",
        "do2=4000\n",
        "co=1500\n",
        "se=2000\n",
        "can=1800\n",
        "pp =tg* 10 +do*5\n",
        "sp= bm *2 + do2*4 + co*1 + se*4 + can*5\n",
        "\n",
        "print(\"오늘 총 매출액은\",sp-pp,\"원입니다.\")"
      ]
    },
    {
      "cell_type": "markdown",
      "source": [],
      "metadata": {
        "id": "arY809rvWF_T"
      }
    }
  ]
}