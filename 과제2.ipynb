{
  "nbformat": 4,
  "nbformat_minor": 0,
  "metadata": {
    "colab": {
      "provenance": [],
      "authorship_tag": "ABX9TyNihVWKdJ5uG12nexSSRa0w",
      "include_colab_link": true
    },
    "kernelspec": {
      "name": "python3",
      "display_name": "Python 3"
    },
    "language_info": {
      "name": "python"
    }
  },
  "cells": [
    {
      "cell_type": "markdown",
      "metadata": {
        "id": "view-in-github",
        "colab_type": "text"
      },
      "source": [
        "<a href=\"https://colab.research.google.com/github/baekjungduck/python/blob/main/%EA%B3%BC%EC%A0%9C2.ipynb\" target=\"_parent\"><img src=\"https://colab.research.google.com/assets/colab-badge.svg\" alt=\"Open In Colab\"/></a>"
      ]
    },
    {
      "cell_type": "code",
      "execution_count": 8,
      "metadata": {
        "colab": {
          "base_uri": "https://localhost:8080/"
        },
        "id": "D3XqCBV8G2MD",
        "outputId": "5580eb6e-cc4e-4ce0-e506-bc680350aecd"
      },
      "outputs": [
        {
          "output_type": "stream",
          "name": "stdout",
          "text": [
            "첫번째 정수 입력 : 100\n",
            "두번째 정수 입력 : 10\n",
            "100 + 10 = 110\n",
            "100 - 10 = 90\n",
            "100 * 10 = 1000\n",
            "100 / 10 = 10.0\n",
            "100 % 10 = 0\n",
            "100 ** 10 = 100000000000000000000\n"
          ]
        }
      ],
      "source": [
        "num1 = int(input(\"첫번째 정수 입력 : \"))\n",
        "num2 = int(input(\"두번째 정수 입력 : \"))\n",
        "\n",
        "sum= num1 + num2\n",
        "p= num1 - num2\n",
        "r= num1 * num2\n",
        "i=num1 / num2\n",
        "n=num1 % num2\n",
        "t=num1 ** num2\n",
        "\n",
        "print(num1, \"+\", num2, \"=\", sum)\n",
        "print(num1, \"-\", num2, \"=\", p)\n",
        "print(num1, \"*\", num2, \"=\", r)\n",
        "print(num1, \"/\", num2, \"=\", i)\n",
        "print(num1, \"%\", num2, \"=\", n)\n",
        "print(num1, \"**\", num2, \"=\",t)\n",
        "\n"
      ]
    }
  ]
}