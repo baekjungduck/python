{
  "nbformat": 4,
  "nbformat_minor": 0,
  "metadata": {
    "colab": {
      "provenance": [],
      "authorship_tag": "ABX9TyOaa78nGsZKadHed9fT7o0L",
      "include_colab_link": true
    },
    "kernelspec": {
      "name": "python3",
      "display_name": "Python 3"
    },
    "language_info": {
      "name": "python"
    }
  },
  "cells": [
    {
      "cell_type": "markdown",
      "metadata": {
        "id": "view-in-github",
        "colab_type": "text"
      },
      "source": [
        "<a href=\"https://colab.research.google.com/github/baekjungduck/python/blob/main/%EA%B3%BC%EC%A0%9C10.ipynb\" target=\"_parent\"><img src=\"https://colab.research.google.com/assets/colab-badge.svg\" alt=\"Open In Colab\"/></a>"
      ]
    },
    {
      "cell_type": "code",
      "execution_count": 13,
      "metadata": {
        "colab": {
          "base_uri": "https://localhost:8080/"
        },
        "id": "yXRMfnQuQkfS",
        "outputId": "7c1b21e1-c81d-4a19-ea25-6725a4863527"
      },
      "outputs": [
        {
          "output_type": "stream",
          "name": "stdout",
          "text": [
            "주사위 3개가 모두 2 이다\n",
            "같은 숫자가 나오기 까지 35 번 던졌다.\n"
          ]
        }
      ],
      "source": [
        "import random\n",
        "count = 0\n",
        "while True :\n",
        "\n",
        "  dice1= random.randint(1,6)\n",
        "  dice2= random.randint(1,6)\n",
        "  dice3= random.randint(1,6)\n",
        "  count = count + 1\n",
        "  if dice1 == dice2 == dice3 :\n",
        "    print(\"주사위 3개가 모두\",dice1,\"이다\")\n",
        "    print(\"같은 숫자가 나오기 까지\",count,\"번 던졌다.\")\n",
        "    break"
      ]
    },
    {
      "cell_type": "code",
      "source": [
        "import random\n",
        "count = 1\n",
        "num = 0\n",
        "player = 0\n",
        "while count <= 10 :\n",
        "  num = random.randint(1,5)\n",
        "  print(\"제\",count,\"회 : \",end=\"\")\n",
        "  player = int(input(\"컴퓨터가 생각한 숫자는 ?\"))\n",
        "  count = count+1\n",
        "  if num == player :\n",
        "    print(\"정답\")\n",
        "  elif num != player :\n",
        "    print(\"아까워요.\",num,\"였는데요. 다시 ㄱㄱ\")"
      ],
      "metadata": {
        "colab": {
          "base_uri": "https://localhost:8080/"
        },
        "id": "O_rkRdi4R-Zx",
        "outputId": "ff8be1ab-fca9-43ba-83c4-ee41aecba850"
      },
      "execution_count": 13,
      "outputs": [
        {
          "output_type": "stream",
          "name": "stdout",
          "text": [
            "제 1 회 : 컴퓨터가 생각한 숫자는 ?1\n",
            "아까워요. 4 였는데요. 다시 ㄱㄱ\n",
            "제 2 회 : 컴퓨터가 생각한 숫자는 ?2\n",
            "정답\n",
            "제 3 회 : 컴퓨터가 생각한 숫자는 ?3\n",
            "아까워요. 1 였는데요. 다시 ㄱㄱ\n",
            "제 4 회 : 컴퓨터가 생각한 숫자는 ?3\n",
            "아까워요. 1 였는데요. 다시 ㄱㄱ\n",
            "제 5 회 : 컴퓨터가 생각한 숫자는 ?3\n",
            "아까워요. 5 였는데요. 다시 ㄱㄱ\n",
            "제 6 회 : 컴퓨터가 생각한 숫자는 ?3\n",
            "정답\n",
            "제 7 회 : 컴퓨터가 생각한 숫자는 ?254\n",
            "아까워요. 3 였는데요. 다시 ㄱㄱ\n",
            "제 8 회 : 컴퓨터가 생각한 숫자는 ?1\n",
            "정답\n",
            "제 9 회 : 컴퓨터가 생각한 숫자는 ?5\n",
            "아까워요. 4 였는데요. 다시 ㄱㄱ\n",
            "제 10 회 : 컴퓨터가 생각한 숫자는 ?5\n",
            "아까워요. 4 였는데요. 다시 ㄱㄱ\n"
          ]
        }
      ]
    },
    {
      "cell_type": "code",
      "source": [
        "import random\n",
        "\n",
        "rnd = [1,2,3,4,5,6,7,8,9]\n",
        "\n",
        "r1 = random.choice(rnd)\n",
        "rnd.remove(r1)\n",
        "\n",
        "print(\"라스트 :\",rnd)\n",
        "print(\"랜덤값 :\",r1)"
      ],
      "metadata": {
        "colab": {
          "base_uri": "https://localhost:8080/"
        },
        "id": "gXvjIOagZHkg",
        "outputId": "76801e4c-a1c7-4022-84c2-c9d7ce491796"
      },
      "execution_count": 15,
      "outputs": [
        {
          "output_type": "stream",
          "name": "stdout",
          "text": [
            "라스트 : [1, 2, 3, 5, 6, 7, 8, 9]\n",
            "랜덤값 : 4\n"
          ]
        }
      ]
    },
    {
      "cell_type": "code",
      "source": [
        "import random\n",
        "number = random.sample(range(1,10),3) # range()\n",
        "print(number)\n",
        "print(number[0])\n",
        "print(number[1])\n",
        "print(number[2])\n"
      ],
      "metadata": {
        "colab": {
          "base_uri": "https://localhost:8080/"
        },
        "id": "FXjjoAGPVNW0",
        "outputId": "d44e84ee-2593-4d7c-f7e0-e0ff742ed417"
      },
      "execution_count": 19,
      "outputs": [
        {
          "output_type": "stream",
          "name": "stdout",
          "text": [
            "[9, 8, 1]\n",
            "9\n",
            "8\n",
            "1\n"
          ]
        }
      ]
    },
    {
      "cell_type": "code",
      "source": [
        "import random\n",
        "game_count = 1\n",
        "secret_number = random.sample(range(1,10),3) # range()\n",
        "print(secret_number)\n",
        "while game_count <= 10 :\n",
        "  strike = 0\n",
        "  ball = 0\n",
        "  player_number = input(\"3자리 숫자를 입력 :\")\n",
        "  player_number = list(player_number)\n",
        "  player_number[0] = int(player_number[0])\n",
        "  player_number[1] = int(player_number[1])\n",
        "  player_number[2] = int(player_number[2])\n",
        "\n",
        "  if (secret_number[0] == player_number[0]) :\n",
        "    strike = strike + 1\n",
        "  elif player_number[0] in secret_number :\n",
        "    ball = ball + 1\n",
        "  if (secret_number[1] == player_number[1]) :\n",
        "    strike = strike + 1\n",
        "  elif player_number[1] in secret_number :\n",
        "    ball = ball + 1\n",
        "  if (secret_number[2] == player_number[2]) :\n",
        "    strike = strike + 1\n",
        "  elif player_number[2] in secret_number :\n",
        "    ball = ball + 1\n",
        "     \n",
        "  print(strike, \"스트라이크\", ball, \"볼\")\n",
        "  if strike == 3 :\n",
        "     print(\"맞아용용\")\n",
        "     break\n"
      ],
      "metadata": {
        "colab": {
          "base_uri": "https://localhost:8080/"
        },
        "id": "D0simApxeAs-",
        "outputId": "990d3b96-f13f-471a-bb77-e6e55a995e2e"
      },
      "execution_count": 3,
      "outputs": [
        {
          "output_type": "stream",
          "name": "stdout",
          "text": [
            "[4, 2, 6]\n",
            "3자리 숫자를 입력 :123\n",
            "1 스트라이크 0 볼\n",
            "3자리 숫자를 입력 :123\n",
            "1 스트라이크 0 볼\n",
            "3자리 숫자를 입력 :123\n",
            "1 스트라이크 0 볼\n",
            "3자리 숫자를 입력 :462\n",
            "1 스트라이크 2 볼\n",
            "3자리 숫자를 입력 :624\n",
            "1 스트라이크 2 볼\n",
            "3자리 숫자를 입력 :246\n",
            "1 스트라이크 2 볼\n",
            "3자리 숫자를 입력 :426\n",
            "3 스트라이크 0 볼\n",
            "맞아용용\n"
          ]
        }
      ]
    },
    {
      "cell_type": "code",
      "source": [],
      "metadata": {
        "id": "cIl9g9PyjOuU"
      },
      "execution_count": null,
      "outputs": []
    }
  ]
}