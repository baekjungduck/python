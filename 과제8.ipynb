{
  "nbformat": 4,
  "nbformat_minor": 0,
  "metadata": {
    "colab": {
      "provenance": [],
      "authorship_tag": "ABX9TyPuU42ONDJ+hh4rh6RG+gGj",
      "include_colab_link": true
    },
    "kernelspec": {
      "name": "python3",
      "display_name": "Python 3"
    },
    "language_info": {
      "name": "python"
    }
  },
  "cells": [
    {
      "cell_type": "markdown",
      "metadata": {
        "id": "view-in-github",
        "colab_type": "text"
      },
      "source": [
        "<a href=\"https://colab.research.google.com/github/baekjungduck/python/blob/main/%EA%B3%BC%EC%A0%9C8.ipynb\" target=\"_parent\"><img src=\"https://colab.research.google.com/assets/colab-badge.svg\" alt=\"Open In Colab\"/></a>"
      ]
    },
    {
      "cell_type": "code",
      "execution_count": 4,
      "metadata": {
        "colab": {
          "base_uri": "https://localhost:8080/"
        },
        "id": "0a4sy9UsXpub",
        "outputId": "e6890ba2-4744-45c3-fca2-84644aed1304"
      },
      "outputs": [
        {
          "output_type": "stream",
          "name": "stdout",
          "text": [
            "34\n"
          ]
        }
      ],
      "source": [
        "import random\n",
        "\n",
        "rndNumber = random.randint(1,45)\n",
        "\n",
        "print(rndNumber)"
      ]
    },
    {
      "cell_type": "code",
      "source": [
        "import random\n",
        "lottoNumber = [0,0,0,0,0,0]\n",
        "\n",
        "for i in range(6) :\n",
        "  lottoNumber[i] = random.randint(1,45)\n",
        "for i in range(6) :\n",
        "  print(lottoNumber [i],end=\" \")\n"
      ],
      "metadata": {
        "colab": {
          "base_uri": "https://localhost:8080/"
        },
        "id": "3VBx-thkY-MF",
        "outputId": "f1671a85-5414-4b95-dd4f-bda0168dffa1"
      },
      "execution_count": 14,
      "outputs": [
        {
          "output_type": "stream",
          "name": "stdout",
          "text": [
            "2 35 34 14 18 43 "
          ]
        }
      ]
    },
    {
      "cell_type": "code",
      "source": [
        "import random\n",
        "\n",
        "foods = [\"떡볶이\",\"순대\",\"소고기\",\"쿠키\",\"라면\"]\n",
        "\n",
        "result = random.choice(foods)\n",
        "print(result)"
      ],
      "metadata": {
        "colab": {
          "base_uri": "https://localhost:8080/"
        },
        "id": "2l3gT2laca6e",
        "outputId": "23d6f195-f5bb-4a57-eabc-e20eb99a56cd"
      },
      "execution_count": 16,
      "outputs": [
        {
          "output_type": "stream",
          "name": "stdout",
          "text": [
            "쿠키\n"
          ]
        }
      ]
    },
    {
      "cell_type": "code",
      "source": [
        "import random\n",
        "computer = \"\"\n",
        "player = input(\"나의 가위/바위/보 : \")\n",
        "computer = random.choice([\"가위\",\"바위\",\"보\"])\n",
        "if player == computer :\n",
        "  print(\"비겼다\")\n",
        "elif (player ==\"가위\" and computer==\"보\") or \\\n",
        "(player ==\"가위\" and computer==\"가위\") or \\\n",
        "(player ==\"보\" and computer==\"바위\"):\n",
        "  print(computer,\"이겼다\")\n",
        "else :\n",
        "  print(computer,\"졌다\")\n",
        "print(player,computer)"
      ],
      "metadata": {
        "colab": {
          "base_uri": "https://localhost:8080/"
        },
        "id": "68HT1mLmc8n7",
        "outputId": "7b88056b-52ed-43c9-ada8-e078bfe32c2e"
      },
      "execution_count": 63,
      "outputs": [
        {
          "output_type": "stream",
          "name": "stdout",
          "text": [
            "나의 가위/바위/보 : 가위\n",
            "보 이겼다\n",
            "가위 보\n"
          ]
        }
      ]
    },
    {
      "cell_type": "code",
      "source": [],
      "metadata": {
        "id": "sj69dy1GhWaf"
      },
      "execution_count": null,
      "outputs": []
    }
  ]
}