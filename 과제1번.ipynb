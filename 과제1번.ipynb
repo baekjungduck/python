{
  "nbformat": 4,
  "nbformat_minor": 0,
  "metadata": {
    "colab": {
      "provenance": [],
      "authorship_tag": "ABX9TyNVUBllJknWKgUexcpKSUS5",
      "include_colab_link": true
    },
    "kernelspec": {
      "name": "python3",
      "display_name": "Python 3"
    },
    "language_info": {
      "name": "python"
    }
  },
  "cells": [
    {
      "cell_type": "markdown",
      "metadata": {
        "id": "view-in-github",
        "colab_type": "text"
      },
      "source": [
        "<a href=\"https://colab.research.google.com/github/baekjungduck/python/blob/main/%EA%B3%BC%EC%A0%9C1%EB%B2%88.ipynb\" target=\"_parent\"><img src=\"https://colab.research.google.com/assets/colab-badge.svg\" alt=\"Open In Colab\"/></a>"
      ]
    },
    {
      "cell_type": "code",
      "execution_count": 5,
      "metadata": {
        "colab": {
          "base_uri": "https://localhost:8080/"
        },
        "id": "c7JLCDQNVWI7",
        "outputId": "f5f437aa-6814-4f23-8bfc-148350d10011"
      },
      "outputs": [
        {
          "output_type": "stream",
          "name": "stdout",
          "text": [
            "## 택배를 보내기 위한 정보를 입력하세요.##\n",
            "받는 사람:정덕\n",
            "주소:덕덕\n",
            "무게(g):1234124\n",
            "** 받는 사람==> 정덕\n",
            "** 주소 ==> 덕덕\n",
            "** 배송비 ==> 6170620 원\n"
          ]
        }
      ],
      "source": [
        "\n",
        "print(\"## 택배를 보내기 위한 정보를 입력하세요.##\")\n",
        "recieve_name= input(\"받는 사람:\")\n",
        "address= input(\"주소:\")\n",
        "weight=int(input(\"무게(g):\"))\n",
        "\n",
        "print(\"** 받는 사람==>\",recieve_name)\n",
        "print(\"** 주소 ==>\",address)\n",
        "print(\"** 배송비 ==>\",weight*5,\"원\")\n"
      ]
    }
  ]
}