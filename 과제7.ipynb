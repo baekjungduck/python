{
  "nbformat": 4,
  "nbformat_minor": 0,
  "metadata": {
    "colab": {
      "provenance": [],
      "authorship_tag": "ABX9TyP6HxyzhFPpHp5dUgwIPnBL",
      "include_colab_link": true
    },
    "kernelspec": {
      "name": "python3",
      "display_name": "Python 3"
    },
    "language_info": {
      "name": "python"
    }
  },
  "cells": [
    {
      "cell_type": "markdown",
      "metadata": {
        "id": "view-in-github",
        "colab_type": "text"
      },
      "source": [
        "<a href=\"https://colab.research.google.com/github/baekjungduck/python/blob/main/Untitled0.ipynb\" target=\"_parent\"><img src=\"https://colab.research.google.com/assets/colab-badge.svg\" alt=\"Open In Colab\"/></a>"
      ]
    },
    {
      "cell_type": "code",
      "execution_count": 17,
      "metadata": {
        "colab": {
          "base_uri": "https://localhost:8080/"
        },
        "id": "W_lOThCLXqs7",
        "outputId": "ecaf246f-213e-4a7a-97ee-e45b5fdbad3e"
      },
      "outputs": [
        {
          "output_type": "stream",
          "name": "stdout",
          "text": [
            "100보다 큽니다.\n",
            "프로그램\n",
            "끝\n"
          ]
        }
      ],
      "source": [
        "num = 200 \n",
        "if num > 100 :\n",
        "  print (\"100보다 큽니다.\")\n",
        "  print(\"프로그램\")\n",
        "  print(\"끝\")"
      ]
    },
    {
      "cell_type": "code",
      "source": [
        "num= int(input(\"정수를 입력 : \"))\n",
        "if num%2 ==0:\n",
        "  print(\"짝수\")\n",
        "  print(\"입니다\")\n",
        "else :\n",
        "  print(\"홀수\")"
      ],
      "metadata": {
        "colab": {
          "base_uri": "https://localhost:8080/"
        },
        "id": "Y8xJ7uVLYJ8i",
        "outputId": "3a1b6cc2-19d8-4160-bf63-5079674d453c"
      },
      "execution_count": 7,
      "outputs": [
        {
          "output_type": "stream",
          "name": "stdout",
          "text": [
            "정수를 입력 : 3\n",
            "홀수\n"
          ]
        }
      ]
    },
    {
      "cell_type": "code",
      "source": [
        "num = int(input(\"숫자를 입력 : \"))\n",
        "if num >= 100 :\n",
        "  if num <=1000 :\n",
        "    print(\"100에서 1000사이다.\")\n",
        "  else :\n",
        "    print(\"1000보다 크다.\")\n",
        "else :\n",
        "\n",
        "  print(\"100보다 작다\")\n",
        "  \n"
      ],
      "metadata": {
        "colab": {
          "base_uri": "https://localhost:8080/"
        },
        "id": "Q43sIGGjZEnx",
        "outputId": "0a14d5ff-ac23-4fa1-8390-358872497fc1"
      },
      "execution_count": 24,
      "outputs": [
        {
          "output_type": "stream",
          "name": "stdout",
          "text": [
            "숫자를 입력 : 2\n",
            "100보다 작다\n"
          ]
        }
      ]
    },
    {
      "cell_type": "code",
      "source": [
        "score = int(input(\"숫자를 입력 : \"))\n",
        "if score >=90 :\n",
        "  print(\"A\", end='')\n",
        "else :\n",
        "  if score >=80 :\n",
        "    print(\"B\", end='')\n",
        "  else:\n",
        "  \n",
        "    if score >=70 :\n",
        "        print(\"C\", end='')\n",
        "    else:\n",
        "      if score >=60 :\n",
        "        print(\"D\", end='')\n",
        "      else:\n",
        "          print(\"F\", end='')\n",
        "print(\"학점입니다.\")\n"
      ],
      "metadata": {
        "colab": {
          "base_uri": "https://localhost:8080/"
        },
        "id": "MNXFuiUJcTX3",
        "outputId": "1197cf8b-4b96-4270-bc3d-3d7da8b7fce1"
      },
      "execution_count": 43,
      "outputs": [
        {
          "output_type": "stream",
          "name": "stdout",
          "text": [
            "숫자를 입력 : 90\n",
            "A학점입니다.\n"
          ]
        }
      ]
    }
  ]
}
