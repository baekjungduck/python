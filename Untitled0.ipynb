{
  "nbformat": 4,
  "nbformat_minor": 0,
  "metadata": {
    "colab": {
      "provenance": [],
      "authorship_tag": "ABX9TyPZzG6M/mwI5g0yFximOQEk",
      "include_colab_link": true
    },
    "kernelspec": {
      "name": "python3",
      "display_name": "Python 3"
    },
    "language_info": {
      "name": "python"
    }
  },
  "cells": [
    {
      "cell_type": "markdown",
      "metadata": {
        "id": "view-in-github",
        "colab_type": "text"
      },
      "source": [
        "<a href=\"https://colab.research.google.com/github/baekjungduck/python/blob/main/Untitled0.ipynb\" target=\"_parent\"><img src=\"https://colab.research.google.com/assets/colab-badge.svg\" alt=\"Open In Colab\"/></a>"
      ]
    },
    {
      "cell_type": "code",
      "execution_count": 11,
      "metadata": {
        "colab": {
          "base_uri": "https://localhost:8080/"
        },
        "id": "h-LngCl2MriS",
        "outputId": "1b1b3136-cd7a-48b8-dc76-6b81bdc19d1b"
      },
      "outputs": [
        {
          "output_type": "stream",
          "name": "stdout",
          "text": [
            "파운드(lb)를 입력하세요 : 10\n",
            "<built-in function round> 파운드(bl)는 4.53592 킬로그램(kg)입니다.\n",
            "킬로그램(kg)을 입력하세요 : 20\n",
            "20 킬로그램(kg)은 44.09246 파운드(lb)입니다.\n"
          ]
        }
      ],
      "source": [
        "pound=int(input(\"파운드(lb)를 입력하세요 : \"))\n",
        "kg = pound *  0.453592\n",
        "print(round,\"파운드(bl)는\",round(kg,5), \"킬로그램(kg)입니다.\")\n",
        "\n",
        "kg=int(input(\"킬로그램(kg)을 입력하세요 : \"))\n",
        "pound = kg* 2.204623\n",
        "print(kg,\"킬로그램(kg)은\", round(pound, 5), \"파운드(lb)입니다.\")"
      ]
    }
  ]
}