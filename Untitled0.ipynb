{
  "nbformat": 4,
  "nbformat_minor": 0,
  "metadata": {
    "colab": {
      "provenance": [],
      "authorship_tag": "ABX9TyNdQiWLNTLEf98ngfoxXdz1",
      "include_colab_link": true
    },
    "kernelspec": {
      "name": "python3",
      "display_name": "Python 3"
    },
    "language_info": {
      "name": "python"
    }
  },
  "cells": [
    {
      "cell_type": "markdown",
      "metadata": {
        "id": "view-in-github",
        "colab_type": "text"
      },
      "source": [
        "<a href=\"https://colab.research.google.com/github/baekjungduck/python/blob/main/Untitled0.ipynb\" target=\"_parent\"><img src=\"https://colab.research.google.com/assets/colab-badge.svg\" alt=\"Open In Colab\"/></a>"
      ]
    },
    {
      "cell_type": "code",
      "execution_count": 2,
      "metadata": {
        "colab": {
          "base_uri": "https://localhost:8080/"
        },
        "id": "c7JLCDQNVWI7",
        "outputId": "60f3a003-88bd-42d5-b1dc-294c936e306c"
      },
      "outputs": [
        {
          "output_type": "stream",
          "name": "stdout",
          "text": [
            "## 택배를 보내기 위한 정보를 입력하세요.##\n",
            "받는 사람:qor\n",
            "주소:백\n",
            "무게(g):20\n",
            "100 원\n"
          ]
        }
      ],
      "source": [
        "\n",
        "print(\"## 택배를 보내기 위한 정보를 입력하세요.##\")\n",
        "recieve_name= input(\"받는 사람:\")\n",
        "address= input(\"주소:\")\n",
        "weight=int(input(\"무게(g):\"))\n",
        "\n",
        "\n",
        "print(weight*5,\"원\")\n"
      ]
    }
  ]
}