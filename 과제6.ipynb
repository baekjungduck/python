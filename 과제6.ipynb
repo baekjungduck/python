{
  "nbformat": 4,
  "nbformat_minor": 0,
  "metadata": {
    "colab": {
      "provenance": [],
      "authorship_tag": "ABX9TyPJ9HrnJd4khJTNvWmI6LH8",
      "include_colab_link": true
    },
    "kernelspec": {
      "name": "python3",
      "display_name": "Python 3"
    },
    "language_info": {
      "name": "python"
    }
  },
  "cells": [
    {
      "cell_type": "markdown",
      "metadata": {
        "id": "view-in-github",
        "colab_type": "text"
      },
      "source": [
        "<a href=\"https://colab.research.google.com/github/baekjungduck/python/blob/main/%EA%B3%BC%EC%A0%9C6.ipynb\" target=\"_parent\"><img src=\"https://colab.research.google.com/assets/colab-badge.svg\" alt=\"Open In Colab\"/></a>"
      ]
    },
    {
      "cell_type": "code",
      "execution_count": 10,
      "metadata": {
        "colab": {
          "base_uri": "https://localhost:8080/"
        },
        "id": "XsbyDwj8JYYx",
        "outputId": "a01530d9-bc20-43a3-9453-4ed6336229b8"
      },
      "outputs": [
        {
          "output_type": "stream",
          "name": "stdout",
          "text": [
            "원본 문자열 :  트와이스\n",
            "반대 문자열 :  스이와트\n"
          ]
        }
      ],
      "source": [
        "singer =[\"트\",\"와\",\"이\",\"스\"]\n",
        "reverse_singer=singer[3]+singer[2]+singer[1]+singer[0]\n",
        "\n",
        "\n",
        "\n",
        "print(\"원본 문자열 : \",singer[0]+singer[1]+singer[2]+singer[3])\n",
        "print(\"반대 문자열 : \",reverse_singer)\n"
      ]
    },
    {
      "cell_type": "code",
      "source": [
        "singer = \"트와이스\"\n",
        "\n",
        "print(\"원본 문자열 : \",singer)\n",
        "print(\"반대 문자열 : \", singer[::-1])"
      ],
      "metadata": {
        "colab": {
          "base_uri": "https://localhost:8080/"
        },
        "id": "NrD8d1lyPW6A",
        "outputId": "c85da279-bd27-422d-a520-bcb4aff157e7"
      },
      "execution_count": 11,
      "outputs": [
        {
          "output_type": "stream",
          "name": "stdout",
          "text": [
            "원본 문자열 :  트와이스\n",
            "반대 문자열 :  스이와트\n"
          ]
        }
      ]
    },
    {
      "cell_type": "code",
      "source": [
        "rr = \"Python\"\n",
        "tt = rr[0].lower() + rr[1:6].upper()\n",
        "\n",
        "print(tt)\n"
      ],
      "metadata": {
        "colab": {
          "base_uri": "https://localhost:8080/"
        },
        "id": "53oNAOkUPW9e",
        "outputId": "f9ee3aae-fba7-4e78-dfc7-3003d4f0ecfd"
      },
      "execution_count": 21,
      "outputs": [
        {
          "output_type": "stream",
          "name": "stdout",
          "text": [
            "pYTHON\n"
          ]
        }
      ]
    }
  ]
}