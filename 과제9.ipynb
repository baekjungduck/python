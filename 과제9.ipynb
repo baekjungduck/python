{
  "nbformat": 4,
  "nbformat_minor": 0,
  "metadata": {
    "colab": {
      "provenance": [],
      "authorship_tag": "ABX9TyP2dOG1DBkT+RDPDAnhEeZp",
      "include_colab_link": true
    },
    "kernelspec": {
      "name": "python3",
      "display_name": "Python 3"
    },
    "language_info": {
      "name": "python"
    }
  },
  "cells": [
    {
      "cell_type": "markdown",
      "metadata": {
        "id": "view-in-github",
        "colab_type": "text"
      },
      "source": [
        "<a href=\"https://colab.research.google.com/github/baekjungduck/python/blob/main/%EA%B3%BC%EC%A0%9C9.ipynb\" target=\"_parent\"><img src=\"https://colab.research.google.com/assets/colab-badge.svg\" alt=\"Open In Colab\"/></a>"
      ]
    },
    {
      "cell_type": "code",
      "execution_count": 2,
      "metadata": {
        "colab": {
          "base_uri": "https://localhost:8080/"
        },
        "id": "-llEuwXsc878",
        "outputId": "690d811d-a971-432d-984a-5baec216ea31"
      },
      "outputs": [
        {
          "output_type": "stream",
          "name": "stdout",
          "text": [
            "0 컴퓨터과 3학년 1반\n",
            "1 컴퓨터과 3학년 1반\n",
            "2 컴퓨터과 3학년 1반\n"
          ]
        }
      ],
      "source": [
        "for i in range(3) :\n",
        "  print(i,\"컴퓨터과 3학년 1반\")"
      ]
    },
    {
      "cell_type": "code",
      "source": [
        "for i in(0,1,2,3,4) :\n",
        "  print(i,\"컴퓨터과 3학년 1반\")"
      ],
      "metadata": {
        "colab": {
          "base_uri": "https://localhost:8080/"
        },
        "id": "QEXr3gLdduwQ",
        "outputId": "c4672bf8-930e-4b8d-b26c-4792fc2a2551"
      },
      "execution_count": 4,
      "outputs": [
        {
          "output_type": "stream",
          "name": "stdout",
          "text": [
            "0 컴퓨터과 3학년 1반\n",
            "1 컴퓨터과 3학년 1반\n",
            "2 컴퓨터과 3학년 1반\n",
            "3 컴퓨터과 3학년 1반\n",
            "4 컴퓨터과 3학년 1반\n"
          ]
        }
      ]
    },
    {
      "cell_type": "code",
      "source": [
        "for i in(\"봄\",\"여름\",\"가을\",\"겨울\") :\n",
        "  print(i,\"컴퓨터과 3학년 1반\")"
      ],
      "metadata": {
        "colab": {
          "base_uri": "https://localhost:8080/"
        },
        "id": "La6Z1EPXeIvG",
        "outputId": "3dd766d1-4e07-4ab4-a51a-4bfc480c56d2"
      },
      "execution_count": 5,
      "outputs": [
        {
          "output_type": "stream",
          "name": "stdout",
          "text": [
            "봄 컴퓨터과 3학년 1반\n",
            "여름 컴퓨터과 3학년 1반\n",
            "가을 컴퓨터과 3학년 1반\n",
            "겨울 컴퓨터과 3학년 1반\n"
          ]
        }
      ]
    },
    {
      "cell_type": "code",
      "source": [
        "for i in range(1, 11, 1):\n",
        "  print(i, \"컴퓨터과\")"
      ],
      "metadata": {
        "colab": {
          "base_uri": "https://localhost:8080/"
        },
        "id": "gnp4kwOkeTHG",
        "outputId": "d0633bf6-725c-43e5-91f8-36f1afcaef12"
      },
      "execution_count": 6,
      "outputs": [
        {
          "output_type": "stream",
          "name": "stdout",
          "text": [
            "1 컴퓨터과\n",
            "2 컴퓨터과\n",
            "3 컴퓨터과\n",
            "4 컴퓨터과\n",
            "5 컴퓨터과\n",
            "6 컴퓨터과\n",
            "7 컴퓨터과\n",
            "8 컴퓨터과\n",
            "9 컴퓨터과\n",
            "10 컴퓨터과\n"
          ]
        }
      ]
    },
    {
      "cell_type": "code",
      "source": [
        "for i in range(2, 6, 1) :\n",
        "  print(i, end=\" \")"
      ],
      "metadata": {
        "colab": {
          "base_uri": "https://localhost:8080/"
        },
        "id": "A8p-I1YufBnv",
        "outputId": "6c57afae-dd05-43d3-bd5d-bc93d00a3a5a"
      },
      "execution_count": 8,
      "outputs": [
        {
          "output_type": "stream",
          "name": "stdout",
          "text": [
            "2 3 4 5 "
          ]
        }
      ]
    },
    {
      "cell_type": "code",
      "source": [
        "result = 1\n",
        "\n",
        "for i in range(1,6,1):\n",
        "  result = result*i\n",
        "  \n",
        "print(\"A B C D E 학생들을 순서대로 세우는 경우의 수\",result)"
      ],
      "metadata": {
        "colab": {
          "base_uri": "https://localhost:8080/"
        },
        "id": "xCc8zxpTfWv-",
        "outputId": "d9e8db8a-7d19-4a48-a329-f5002af0898d"
      },
      "execution_count": 19,
      "outputs": [
        {
          "output_type": "stream",
          "name": "stdout",
          "text": [
            "A B C D E 학생들을 순서대로 세우는 경우의 수 120\n"
          ]
        }
      ]
    },
    {
      "cell_type": "code",
      "source": [
        "sum=0\n",
        "\n",
        "for i in range(1, 11, 1):\n",
        "  sum= sum+i\n",
        "print(sum)"
      ],
      "metadata": {
        "colab": {
          "base_uri": "https://localhost:8080/"
        },
        "id": "WXGMNUvDh1Vn",
        "outputId": "2676167e-661f-46ec-b2ff-0c16dad9cc56"
      },
      "execution_count": 21,
      "outputs": [
        {
          "output_type": "stream",
          "name": "stdout",
          "text": [
            "55\n"
          ]
        }
      ]
    },
    {
      "cell_type": "code",
      "source": [
        "odd_sum=0\n",
        "for i in range(1001,2001,2):\n",
        "  odd_sum = odd_sum +i\n",
        "print(odd_sum)"
      ],
      "metadata": {
        "colab": {
          "base_uri": "https://localhost:8080/"
        },
        "id": "KDb-2mgKidMD",
        "outputId": "e165e3a5-1588-41b4-b6ad-bba590df12c4"
      },
      "execution_count": 24,
      "outputs": [
        {
          "output_type": "stream",
          "name": "stdout",
          "text": [
            "750000\n"
          ]
        }
      ]
    },
    {
      "cell_type": "code",
      "source": [
        "odd_sum=0\n",
        "for i in range(1000,2000,1):\n",
        "  if i%2 ==1:\n",
        "    odd_sum = odd_sum +i\n",
        "print(odd_sum)"
      ],
      "metadata": {
        "colab": {
          "base_uri": "https://localhost:8080/"
        },
        "id": "RSjSkUpojGyT",
        "outputId": "4304caf2-edd6-4abd-b236-4bae531600b6"
      },
      "execution_count": 26,
      "outputs": [
        {
          "output_type": "stream",
          "name": "stdout",
          "text": [
            "750000\n"
          ]
        }
      ]
    },
    {
      "cell_type": "code",
      "source": [
        "i, hap =0, 0\n",
        "for i in range(500,1001,2):\n",
        "  hap += i\n",
        "print(\"500에서 1000까지의 짝수의 합 :\",hap)"
      ],
      "metadata": {
        "colab": {
          "base_uri": "https://localhost:8080/"
        },
        "id": "REWinLNojw7r",
        "outputId": "7cef95a5-ade2-4b3e-d5be-08f170ab8807"
      },
      "execution_count": 32,
      "outputs": [
        {
          "output_type": "stream",
          "name": "stdout",
          "text": [
            "500에서 1000까지의 짝수의 합 : 188250\n"
          ]
        }
      ]
    },
    {
      "cell_type": "code",
      "source": [
        "for i in range(3):\n",
        "  for k in range(2) :\n",
        "    print(\"난생처음은 쉽습니다. ^^(i값:\",i,\",k값:\",k,\")\")"
      ],
      "metadata": {
        "colab": {
          "base_uri": "https://localhost:8080/"
        },
        "id": "kdRPCRWKkuUB",
        "outputId": "88539451-3a6a-44d8-bb35-dd7860189612"
      },
      "execution_count": 36,
      "outputs": [
        {
          "output_type": "stream",
          "name": "stdout",
          "text": [
            "난생처음은 쉽습니다. ^^(i값: 0 ,k값: 0 )\n",
            "난생처음은 쉽습니다. ^^(i값: 0 ,k값: 1 )\n",
            "난생처음은 쉽습니다. ^^(i값: 1 ,k값: 0 )\n",
            "난생처음은 쉽습니다. ^^(i값: 1 ,k값: 1 )\n",
            "난생처음은 쉽습니다. ^^(i값: 2 ,k값: 0 )\n",
            "난생처음은 쉽습니다. ^^(i값: 2 ,k값: 1 )\n"
          ]
        }
      ]
    },
    {
      "cell_type": "code",
      "source": [
        "for i in range(2,10):\n",
        "  for j in range(1,10):\n",
        "    print(j,\"x\",i,\"=\",i*j,end=\"  \")\n",
        "  print(\"\\n\")"
      ],
      "metadata": {
        "colab": {
          "base_uri": "https://localhost:8080/"
        },
        "id": "SiVIZl4QqXtp",
        "outputId": "dce9b62a-a1b0-48b8-bca1-75acc6af2bdf"
      },
      "execution_count": 66,
      "outputs": [
        {
          "output_type": "stream",
          "name": "stdout",
          "text": [
            "1 x 2 = 2  2 x 2 = 4  3 x 2 = 6  4 x 2 = 8  5 x 2 = 10  6 x 2 = 12  7 x 2 = 14  8 x 2 = 16  9 x 2 = 18  \n",
            "\n",
            "1 x 3 = 3  2 x 3 = 6  3 x 3 = 9  4 x 3 = 12  5 x 3 = 15  6 x 3 = 18  7 x 3 = 21  8 x 3 = 24  9 x 3 = 27  \n",
            "\n",
            "1 x 4 = 4  2 x 4 = 8  3 x 4 = 12  4 x 4 = 16  5 x 4 = 20  6 x 4 = 24  7 x 4 = 28  8 x 4 = 32  9 x 4 = 36  \n",
            "\n",
            "1 x 5 = 5  2 x 5 = 10  3 x 5 = 15  4 x 5 = 20  5 x 5 = 25  6 x 5 = 30  7 x 5 = 35  8 x 5 = 40  9 x 5 = 45  \n",
            "\n",
            "1 x 6 = 6  2 x 6 = 12  3 x 6 = 18  4 x 6 = 24  5 x 6 = 30  6 x 6 = 36  7 x 6 = 42  8 x 6 = 48  9 x 6 = 54  \n",
            "\n",
            "1 x 7 = 7  2 x 7 = 14  3 x 7 = 21  4 x 7 = 28  5 x 7 = 35  6 x 7 = 42  7 x 7 = 49  8 x 7 = 56  9 x 7 = 63  \n",
            "\n",
            "1 x 8 = 8  2 x 8 = 16  3 x 8 = 24  4 x 8 = 32  5 x 8 = 40  6 x 8 = 48  7 x 8 = 56  8 x 8 = 64  9 x 8 = 72  \n",
            "\n",
            "1 x 9 = 9  2 x 9 = 18  3 x 9 = 27  4 x 9 = 36  5 x 9 = 45  6 x 9 = 54  7 x 9 = 63  8 x 9 = 72  9 x 9 = 81  \n",
            "\n"
          ]
        }
      ]
    },
    {
      "cell_type": "code",
      "source": [
        "i = 0\n",
        "while(i<3):\n",
        "  print(\"컴퓨터과 3학년 1반\")\n",
        "  i = i + 1"
      ],
      "metadata": {
        "colab": {
          "base_uri": "https://localhost:8080/"
        },
        "id": "MiFOXGvMtvcV",
        "outputId": "f6b89621-bfb0-409c-eeac-7f78658fba18"
      },
      "execution_count": 67,
      "outputs": [
        {
          "output_type": "stream",
          "name": "stdout",
          "text": [
            "컴퓨터과 3학년 1반\n",
            "컴퓨터과 3학년 1반\n",
            "컴퓨터과 3학년 1반\n"
          ]
        }
      ]
    },
    {
      "cell_type": "code",
      "source": [
        "while True :\n",
        "  print(\"ㅎ\", end=\" \")\n",
        "  i = i+1\n",
        "  if i ==10 :\n",
        "    break"
      ],
      "metadata": {
        "colab": {
          "base_uri": "https://localhost:8080/"
        },
        "id": "scpN9nOQupWc",
        "outputId": "cc507d4b-864c-4f7b-afde-a25a7f831ef0"
      },
      "execution_count": 68,
      "outputs": [
        {
          "output_type": "stream",
          "name": "stdout",
          "text": [
            "ㅎ ㅎ ㅎ ㅎ ㅎ ㅎ ㅎ "
          ]
        }
      ]
    },
    {
      "cell_type": "code",
      "source": [
        "from re import T\n",
        "def menu() :\n",
        "  print(\"###################\\n\")\n",
        "  print(\"# 1. 덧셈    #\")\n",
        "  print(\"# 2. 뺄셈    #\")\n",
        "  print(\"# 3. 나눗셈  #\")\n",
        "  print(\"# 4. 곱셈    #\")\n",
        "  print(\"# 5. 종료    #\")\n",
        "\n",
        "def add():\n",
        "  num1=float(input(\"첫번째 숫자를 입력 : \"))\n",
        "  num2=float(input(\"두번째 숫자를 입력 : \"))\n",
        "  sum= num1+num2\n",
        "  return sum\n",
        "  \n",
        "def add():\n",
        "  num1=float(input(\"첫번째 숫자를 입력 : \"))\n",
        "  num2=float(input(\"두번째 숫자를 입력 : \"))\n",
        "  sum= num1-num2\n",
        "  return sum\n",
        "\n",
        "def add():\n",
        "  num1=float(input(\"첫번째 숫자를 입력 : \"))\n",
        "  num2=float(input(\"두번째 숫자를 입력 : \"))\n",
        "  sum= num1/num2\n",
        "  return sum\n",
        "\n",
        "def add():\n",
        "  num1=float(input(\"첫번째 숫자를 입력 : \"))\n",
        "  num2=float(input(\"두번째 숫자를 입력 : \"))\n",
        "  sum= num1*num2\n",
        "  return sum\n",
        "\n",
        "while True :\n",
        "   menu()\n",
        "   select = int(input(\"메뉴를 선택 : \"))\n",
        "   if select == 5:\n",
        "     break\n",
        "   elif select == 1:\n",
        "     sum = add()\n",
        "     print(\"두수의 덧셈 결과 :\", sum)\n",
        "   elif select == 2:\n",
        "     sum = add()\n",
        "     print(\"두수의 뺄셈 결과 :\", sum)\n",
        "\n",
        "   elif select == 3:\n",
        "     sum = add()\n",
        "     print(\"두수의 나눗셈 결과 :\", sum)\n",
        "\n",
        "   elif select == 4:\n",
        "     sum = add()\n",
        "     print(\"두수의 곱셈 결과 :\", sum)\n"
      ],
      "metadata": {
        "colab": {
          "base_uri": "https://localhost:8080/"
        },
        "id": "Ma0Oeb26vlUs",
        "outputId": "b2e6b7e1-889a-4d83-938f-546fbe3681de"
      },
      "execution_count": null,
      "outputs": [
        {
          "output_type": "stream",
          "name": "stdout",
          "text": [
            "###################\n",
            "\n",
            "# 1. 덧셈    #\n",
            "# 2. 뺄셈    #\n",
            "# 3. 나눗셈  #\n",
            "# 4. 곱셈    #\n",
            "# 5. 종료    #\n",
            "메뉴를 선택 : 4\n",
            "첫번째 숫자를 입력 : 2\n",
            "두번째 숫자를 입력 : 3\n",
            "두수의 곱셈 결과 : 6.0\n",
            "###################\n",
            "\n",
            "# 1. 덧셈    #\n",
            "# 2. 뺄셈    #\n",
            "# 3. 나눗셈  #\n",
            "# 4. 곱셈    #\n",
            "# 5. 종료    #\n"
          ]
        }
      ]
    },
    {
      "cell_type": "code",
      "source": [],
      "metadata": {
        "id": "i8CWiIe9vq98"
      },
      "execution_count": null,
      "outputs": []
    }
  ]
}