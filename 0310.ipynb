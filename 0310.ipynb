{
  "nbformat": 4,
  "nbformat_minor": 0,
  "metadata": {
    "colab": {
      "provenance": [],
      "authorship_tag": "ABX9TyOmT3dTUowoYwiZq6qfw5d8",
      "include_colab_link": true
    },
    "kernelspec": {
      "name": "python3",
      "display_name": "Python 3"
    },
    "language_info": {
      "name": "python"
    }
  },
  "cells": [
    {
      "cell_type": "markdown",
      "metadata": {
        "id": "view-in-github",
        "colab_type": "text"
      },
      "source": [
        "<a href=\"https://colab.research.google.com/github/baekjungduck/python/blob/main/0310.ipynb\" target=\"_parent\"><img src=\"https://colab.research.google.com/assets/colab-badge.svg\" alt=\"Open In Colab\"/></a>"
      ]
    },
    {
      "cell_type": "markdown",
      "source": [],
      "metadata": {
        "id": "uf1lMM4VGDOo"
      }
    },
    {
      "cell_type": "markdown",
      "source": [
        "#제목\n",
        "\n",
        "##타이틀\n",
        "\n",
        "컴퓨터과 3학년1반\n",
        "백정덕"
      ],
      "metadata": {
        "id": "cg68iBrBGJAO"
      }
    },
    {
      "cell_type": "code",
      "execution_count": 1,
      "metadata": {
        "colab": {
          "base_uri": "https://localhost:8080/"
        },
        "id": "t48WzFTtGBfn",
        "outputId": "bc684940-9214-44d2-bdd0-eaae36cb695a"
      },
      "outputs": [
        {
          "output_type": "stream",
          "name": "stdout",
          "text": [
            "오늘은 금요일\n",
            "나혼자 심심해\n"
          ]
        }
      ],
      "source": [
        "print(\"오늘은 금요일\")\n",
        "print(\"나혼자 심심해\")"
      ]
    },
    {
      "cell_type": "code",
      "source": [
        "print(\"친구랑 게임한판!!\")"
      ],
      "metadata": {
        "colab": {
          "base_uri": "https://localhost:8080/"
        },
        "id": "m5iIe9FMGXMB",
        "outputId": "bd835992-9e9d-4614-f682-e8c13908da92"
      },
      "execution_count": 2,
      "outputs": [
        {
          "output_type": "stream",
          "name": "stdout",
          "text": [
            "친구랑 게임한판!!\n"
          ]
        }
      ]
    }
  ]
}