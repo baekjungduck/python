{
  "nbformat": 4,
  "nbformat_minor": 0,
  "metadata": {
    "colab": {
      "provenance": [],
      "authorship_tag": "ABX9TyPLS56MafOpSdJI1nLafw8V",
      "include_colab_link": true
    },
    "kernelspec": {
      "name": "python3",
      "display_name": "Python 3"
    },
    "language_info": {
      "name": "python"
    }
  },
  "cells": [
    {
      "cell_type": "markdown",
      "metadata": {
        "id": "view-in-github",
        "colab_type": "text"
      },
      "source": [
        "<a href=\"https://colab.research.google.com/github/baekjungduck/python/blob/main/%EA%B3%BC%EC%A0%9C11.ipynb\" target=\"_parent\"><img src=\"https://colab.research.google.com/assets/colab-badge.svg\" alt=\"Open In Colab\"/></a>"
      ]
    },
    {
      "cell_type": "code",
      "execution_count": 5,
      "metadata": {
        "colab": {
          "base_uri": "https://localhost:8080/"
        },
        "id": "yOMINYA4ein4",
        "outputId": "145d596b-e8dd-4af6-fedb-429ddf58df26"
      },
      "outputs": [
        {
          "output_type": "stream",
          "name": "stdout",
          "text": [
            "숫자 : 12\n",
            "숫자 : 132\n",
            "숫자 : 1251235\n",
            "숫자 : 82371468217346871\n",
            "숫자 : 532198753249874231987423798789053\n",
            "리스트의 합계 : 532198753249874314358892017387303\n"
          ]
        }
      ],
      "source": [
        "numl_ist = [0,0,0,0,0]\n",
        "\n",
        "numl_ist[0] = input(\"숫자 : \")\n",
        "numl_ist[1] = input(\"숫자 : \")\n",
        "numl_ist[2] = input(\"숫자 : \")\n",
        "numl_ist[3] = input(\"숫자 : \")\n",
        "numl_ist[4] = input(\"숫자 : \")\n",
        "\n",
        "sum = int(numl_ist[0]) + int(numl_ist[1]) + int(numl_ist[2]) + int(numl_ist[3]) + int(numl_ist[4])\n",
        "print(\"리스트의 합계 :\",sum)"
      ]
    },
    {
      "cell_type": "code",
      "source": [
        "myList = []\n",
        "\n",
        "myList.append(\"안산\")\n",
        "myList.append(\"공고\")\n",
        "myList.append(3109)\n",
        "myList.append(777)\n",
        "\n",
        "print(myList)"
      ],
      "metadata": {
        "colab": {
          "base_uri": "https://localhost:8080/"
        },
        "id": "vwPVcRM9oBPj",
        "outputId": "599c78f0-7adc-48bc-cfd8-61982aa355d1"
      },
      "execution_count": 6,
      "outputs": [
        {
          "output_type": "stream",
          "name": "stdout",
          "text": [
            "['안산', '공고', 3109, 777]\n"
          ]
        }
      ]
    },
    {
      "cell_type": "code",
      "source": [
        "import random\n",
        "wlseSay = [\"중요한 것은 꺾이지 않는 마음이다\",\n",
        "           \"너 자신을 알라\",\n",
        "           \"피할 수 없으면 즐겨라\",\n",
        "           \"신은 용기있는 자를 결코 버리지 않는다.\"\n",
        "          ,\"내일은 내일의 태양이 뜬다\",\n",
        "           \"이 또한 지나가리라.\"]\n",
        "rnd_say= random.choice(wlseSay)\n",
        "print(\"오늘의 명언 ==>\",rnd_say)"
      ],
      "metadata": {
        "colab": {
          "base_uri": "https://localhost:8080/"
        },
        "id": "v0p8kpC0ux5Y",
        "outputId": "aa820898-5c5d-4e34-d412-b855dcf550c8"
      },
      "execution_count": 1,
      "outputs": [
        {
          "output_type": "stream",
          "name": "stdout",
          "text": [
            "오늘의 명언 ==> 중요한 것은 꺾이지 않는 마음이다\n"
          ]
        import datetime

now = datetime.date.today()
birthday = datetime.date(2005,2,2)
age = now - birthday
print(age.days/365)  
        
        }
        
      ]
    }
  ]
}
